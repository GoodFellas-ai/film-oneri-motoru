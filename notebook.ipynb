import pandas as pd

# u.data dosyasını oku
columns = ['user_id', 'movie_id', 'rating', 'timestamp']
ratings = pd.read_csv('data/u.data', sep='\t', names=columns)

# u.item dosyasını oku (film isimleri)
item_cols = ['movie_id', 'title'] + [f'genre_{i}' for i in range(19)]
movies = pd.read_csv('data/u.item', sep='|', encoding='latin-1', names=item_cols, usecols=[0, 1])

# Verileri birleştir
data = pd.merge(ratings, movies, on='movie_id')

data.head()


# Kullanıcı-Film matrisini oluştur
user_movie_matrix = data.pivot_table(index='user_id', columns='title', values='rating')

user_movie_matrix.head()

# Örnek film: "Star Wars (1977)"
film_adi = "Star Wars (1977)"

# O filmin puan vektörünü al
target_ratings = user_movie_matrix[film_adi]

# Diğer tüm filmlerle olan korelasyonunu hesapla
film_benzerlikleri = user_movie_matrix.corrwith(target_ratings)

# Sonuçları DataFrame olarak toparla
benzer_filmler = pd.DataFrame(film_benzerlikleri, columns=['correlation'])
benzer_filmler.dropna(inplace=True)

# Filmlere kaç kişinin puan verdiğini de ekle (güvenilirlik için)
film_sayilari = data.groupby('title')['rating'].count()
benzer_filmler['rating_count'] = film_sayilari

# En az 50 kişi tarafından puanlanan benzer filmleri al
sonuc = benzer_filmler[benzer_filmler['rating_count'] > 50].sort_values(by='correlation', ascending=False)

# İlk 10 öneri
print(sonuc.head(10))


film = input("Favori filminizi girin: ")
oneri = benzer_filmler[benzer_filmler['rating_count'] > 50].sort_values(by='correlation', ascending=False)
print(oneri.head(10))


